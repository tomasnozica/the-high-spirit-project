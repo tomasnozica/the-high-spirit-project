{
 "cells": [
  {
   "cell_type": "markdown",
   "metadata": {},
   "source": [
    "# Topic Modeling\n",
    "\n",
    "In this section, we will use **Latent Dirichlet Allocation (LDA)** one of the many techinques that exists. Our goal is to find which are the many topics our quotes are about. First we will make some arrangements to the data so it fist in the format asked by *LDA*. Then we will train our model and see what topics it finds."
   ]
  },
  {
   "cell_type": "code",
   "execution_count": 88,
   "metadata": {},
   "outputs": [],
   "source": [
    "import pickle\n",
    "filename = \"corpus.pkl\"\n",
    "data = []\n",
    "outfile = open(filename,'rb')\n",
    "corpus = pickle.load(outfile)\n",
    "text = ' '.join(corpus)"
   ]
  },
  {
   "cell_type": "markdown",
   "metadata": {},
   "source": [
    "We will filter our corpus and look only for Nouns (NN) and Adjectives (JJ), erasing non meaningful words for the model"
   ]
  },
  {
   "cell_type": "code",
   "execution_count": 89,
   "metadata": {},
   "outputs": [],
   "source": [
    "import nltk\n",
    "is_noun = lambda pos: pos[:2] == 'NN'or pos[:2] == 'JJ'\n",
    "tokenized = nltk.word_tokenize(text)\n",
    "nouns = [word for (word, pos) in nltk.pos_tag(tokenized) if is_noun(pos)] "
   ]
  },
  {
   "cell_type": "code",
   "execution_count": 90,
   "metadata": {},
   "outputs": [],
   "source": [
    "data=[]\n",
    "for word in nouns:\n",
    "    data.append(word.split())"
   ]
  },
  {
   "cell_type": "code",
   "execution_count": 91,
   "metadata": {},
   "outputs": [],
   "source": [
    "from gensim.test.utils import common_texts\n",
    "from gensim.corpora.dictionary import Dictionary\n",
    "from gensim import models\n",
    "dictionary = Dictionary(data)\n",
    "common_corpus = [dictionary.doc2bow(text) for text in data]"
   ]
  },
  {
   "cell_type": "markdown",
   "metadata": {},
   "source": [
    "Now that our data has been set up properly, we train the model "
   ]
  },
  {
   "cell_type": "code",
   "execution_count": 96,
   "metadata": {},
   "outputs": [],
   "source": [
    "lda = models.LdaModel(common_corpus,id2word=dictionary, num_topics=5, passes=5)"
   ]
  },
  {
   "cell_type": "code",
   "execution_count": 100,
   "metadata": {},
   "outputs": [
    {
     "data": {
      "text/plain": [
       "[(0,\n",
       "  '0.027*\"nothing\" + 0.019*\"enough\" + 0.019*\"new\" + 0.019*\"mind\" + 0.019*\"door\" + 0.016*\"successful\" + 0.016*\"thing\" + 0.013*\"happy\"'),\n",
       " (1,\n",
       "  '0.082*\"i\" + 0.070*\"life\" + 0.039*\"youre\" + 0.025*\"more\" + 0.023*\"good\" + 0.021*\"dream\" + 0.021*\"best\" + 0.016*\"great\"'),\n",
       " (2,\n",
       "  '0.065*\"world\" + 0.062*\"day\" + 0.027*\"everything\" + 0.026*\"change\" + 0.021*\"doesnt\" + 0.021*\"today\" + 0.015*\"future\" + 0.015*\"only\"'),\n",
       " (3,\n",
       "  '0.062*\"time\" + 0.060*\"work\" + 0.034*\"something\" + 0.034*\"dreams\" + 0.023*\"opportunity\" + 0.023*\"someone\" + 0.020*\"failure\" + 0.017*\"hard\"'),\n",
       " (4,\n",
       "  '0.060*\"people\" + 0.058*\"success\" + 0.053*\"dont\" + 0.029*\"way\" + 0.026*\"things\" + 0.024*\"anything\" + 0.024*\"others\" + 0.019*\"difference\"')]"
      ]
     },
     "execution_count": 100,
     "metadata": {},
     "output_type": "execute_result"
    }
   ],
   "source": [
    "lda.print_topics(num_words=8)"
   ]
  },
  {
   "cell_type": "markdown",
   "metadata": {},
   "source": [
    "We can try as many topic and passes we want until we think we have found an appropiate classification. According what I read over different forums, for our corpus there is no need of too many passes and the number of topics I chose it was arbitrary. We can classify the topics in:\n",
    "\n",
    "0. **Happiness**\n",
    "1. **Dreams**\n",
    "2. **Future**\n",
    "3. **Work and opportunities**\n",
    "4. **Success and business**"
   ]
  },
  {
   "cell_type": "code",
   "execution_count": null,
   "metadata": {},
   "outputs": [],
   "source": []
  }
 ],
 "metadata": {
  "kernelspec": {
   "display_name": "Python 3",
   "language": "python",
   "name": "python3"
  },
  "language_info": {
   "codemirror_mode": {
    "name": "ipython",
    "version": 3
   },
   "file_extension": ".py",
   "mimetype": "text/x-python",
   "name": "python",
   "nbconvert_exporter": "python",
   "pygments_lexer": "ipython3",
   "version": "3.8.3"
  }
 },
 "nbformat": 4,
 "nbformat_minor": 4
}
